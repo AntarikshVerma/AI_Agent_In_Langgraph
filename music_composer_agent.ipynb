{
  "nbformat": 4,
  "nbformat_minor": 0,
  "metadata": {
    "colab": {
      "provenance": [],
      "authorship_tag": "ABX9TyOEzBusYJBu0O1aewsRoHir",
      "include_colab_link": true
    },
    "kernelspec": {
      "name": "python3",
      "display_name": "Python 3"
    },
    "language_info": {
      "name": "python"
    }
  },
  "cells": [
    {
      "cell_type": "markdown",
      "metadata": {
        "id": "view-in-github",
        "colab_type": "text"
      },
      "source": [
        "<a href=\"https://colab.research.google.com/github/AntarikshVerma/AI_Agent_In_Langgraph/blob/main/music_composer_agent.ipynb\" target=\"_parent\"><img src=\"https://colab.research.google.com/assets/colab-badge.svg\" alt=\"Open In Colab\"/></a>"
      ]
    },
    {
      "cell_type": "markdown",
      "source": [
        "# AI Music Compositor using LangGraph\n",
        "\n",
        "## Overview\n",
        "This tutorial demonstrates how to build an AI-powered music composition system using LangGraph, a framework for creating workflows with language models. The system generates musical compositions based on user input, leveraging various components to create melody, harmony, rhythm, and style adaptations.\n",
        "\n",
        "## Motivation\n",
        "Creating music programmatically is a fascinating intersection of artificial intelligence and artistic expression. This project aims to explore how language models and graph-based workflows can be used to generate coherent musical pieces, providing a unique approach to AI-assisted music composition.\n",
        "\n",
        "## Key Components\n",
        "1. State Management: Utilizes a `MusicState` class to manage the workflow's state.\n",
        "2. Language Model: Employs ChatOpenAI (GPT-4) for generating musical components.\n",
        "3. Musical Functions:\n",
        "   - Melody Generator\n",
        "   - Harmony Creator\n",
        "   - Rhythm Analyzer\n",
        "   - Style Adapter\n",
        "4. MIDI Conversion: Transforms the composition into a playable MIDI file.\n",
        "5. LangGraph Workflow: Orchestrates the composition process using a state graph.\n",
        "6. Playback Functionality: Allows for immediate playback of the generated composition.\n",
        "\n",
        "## Method\n",
        "1. The workflow begins by generating a melody based on user input.\n",
        "2. It then creates harmony to complement the melody.\n",
        "3. A rhythm is analyzed and suggested for the melody and harmony.\n",
        "4. The composition is adapted to the specified musical style.\n",
        "5. The final composition is converted to MIDI format.\n",
        "6. The generated MIDI file can be played back using pygame.\n",
        "\n",
        "The entire process is orchestrated using LangGraph, which manages the flow of information between different components and ensures that each step builds upon the previous ones.\n",
        "\n",
        "## Conclusion\n",
        "This AI Music Compositor demonstrates the potential of combining language models with structured workflows to create musical compositions. By breaking down the composition process into discrete steps and leveraging the power of AI, we can generate unique musical pieces based on simple user inputs. This approach opens up new possibilities for AI-assisted creativity in music production and composition."
      ],
      "metadata": {
        "id": "xf2NBBdu__6i"
      }
    },
    {
      "cell_type": "markdown",
      "source": [
        "<div style=\"text-align: center;\">\n",
        "\n",
        "<img src=\"https://github.com/AntarikshVerma/AI_Agent_In_Langgraph/blob/images/music_composer_agent_langgraph.svg?raw=1\" alt=\"tts poem generator agent langgraph\" style=\"width:50%; height:auto;\">\n",
        "</div>"
      ],
      "metadata": {
        "id": "WX68vfC5BJjj"
      }
    },
    {
      "cell_type": "code",
      "source": [
        "# !pip install tavily-python==0.3.3\n",
        "# !pip install duckduckgo_search==5.3.1b1\n",
        "# !pip install beautifulsoup4==4.12.3\n",
        "# !pip install openai==1.30.1\n",
        "# !pip install langgraph==0.0.53\n",
        "# !pip install langchain_core==0.2.0\n",
        "# !pip install langchain_openai==0.1.7\n",
        "# !pip install langchain-community==0.2.0\n",
        "# !pip install langchain==0.2.0\n",
        "# !pip install aiosqlite==0.20.0\n",
        "# !pip install pygments==2.17.2\n",
        "# !pip install pygraphviz==1.13\n",
        "# !pip install gradio==4.31.3\n",
        "# !apt install libgraphviz-dev\n",
        "# !pip install pygraphviz\n",
        "# !apt install libgraphviz-dev"
      ],
      "metadata": {
        "id": "B6ewBbgtBfNf"
      },
      "execution_count": 25,
      "outputs": []
    },
    {
      "cell_type": "code",
      "execution_count": 34,
      "metadata": {
        "id": "FnWfOtEP_XOE"
      },
      "outputs": [],
      "source": [
        "# Import required libraries\n",
        "from typing import Dict, TypedDict\n",
        "from langgraph.graph import StateGraph, END\n",
        "from langchain_openai import ChatOpenAI\n",
        "from langchain.prompts import ChatPromptTemplate\n",
        "from langchain_openai import AzureChatOpenAI\n",
        "from langchain_core.runnables.graph import MermaidDrawMethod\n",
        "from langchain_community.callbacks import get_openai_callback\n",
        "import music21\n",
        "import pygame\n",
        "import tempfile\n",
        "import os\n",
        "import random\n",
        "from IPython.display import display, Image\n"
      ]
    },
    {
      "cell_type": "markdown",
      "source": [
        "## State Definition\n",
        "\n",
        "Define the MusicState class to hold the workflow's state."
      ],
      "metadata": {
        "id": "yFcTWkLeBmyp"
      }
    },
    {
      "cell_type": "code",
      "source": [
        "class MusicState(TypedDict):\n",
        "    \"\"\"Define the structure of the state for the music generation workflow.\"\"\"\n",
        "    musician_input: str  # User's input describing the desired music\n",
        "    melody: str          # Generated melody\n",
        "    harmony: str         # Generated harmony\n",
        "    rhythm: str          # Generated rhythm\n",
        "    style: str           # Desired musical style\n",
        "    composition: str     # Complete musical composition\n",
        "    midi_file: str       # Path to the generated MIDI file"
      ],
      "metadata": {
        "id": "RpfVY-YZBix3"
      },
      "execution_count": 27,
      "outputs": []
    },
    {
      "cell_type": "markdown",
      "source": [
        "## LLM Initialization\n",
        "\n",
        "Initialize the Language Model (LLM) for generating musical components."
      ],
      "metadata": {
        "id": "NKPPLVZXB1o5"
      }
    },
    {
      "cell_type": "code",
      "source": [
        "from google.colab import userdata\n",
        "open_ai_key=userdata.get('OPENAI_API_KEY_GPT_4')\n",
        "open_ai_base=userdata.get('OPENAI_API_URL_GPT_4')\n",
        "api_version=\"2023-07-01-preview\"\n",
        "\n",
        "os.environ[\"OPENAI_API_VERSION\"] = \"2023-12-01-preview\"\n",
        "os.environ[\"AZURE_OPENAI_ENDPOINT\"] = open_ai_base\n",
        "os.environ[\"AZURE_OPENAI_API_KEY\"] = open_ai_key\n",
        "\n",
        "\n",
        "llm = AzureChatOpenAI(\n",
        "    azure_deployment=\"gpt-4o\",\n",
        "    api_version=\"2024-02-15-preview\",\n",
        "    temperature=0,\n",
        "    max_tokens=None,\n",
        "    timeout=None,\n",
        "    max_retries=2,\n",
        ")\n"
      ],
      "metadata": {
        "id": "IsCbKRRaBrv1"
      },
      "execution_count": 28,
      "outputs": []
    },
    {
      "cell_type": "markdown",
      "source": [
        "## Component Functions\n",
        "\n",
        "Define the component functions for melody generation, harmony creation, rhythm analysis, style adaptation, and MIDI conversion."
      ],
      "metadata": {
        "id": "Zn8nY_P2CsZ5"
      }
    },
    {
      "cell_type": "code",
      "source": [
        "def melody_generator(state: MusicState) -> Dict:\n",
        "    \"\"\"Generate a melody based on the user's input.\"\"\"\n",
        "    prompt = ChatPromptTemplate.from_template(\n",
        "        \"Generate a melody based on this input: {input}. Represent it as a string of notes in music21 format.\"\n",
        "    )\n",
        "    chain = prompt | llm\n",
        "    melody = chain.invoke({\"input\": state[\"musician_input\"]})\n",
        "    return {\"melody\": melody.content}\n",
        "\n",
        "def harmony_creator(state: MusicState) -> Dict:\n",
        "    \"\"\"Create harmony for the generated melody.\"\"\"\n",
        "    prompt = ChatPromptTemplate.from_template(\n",
        "        \"Create harmony for this melody: {melody}. Represent it as a string of chords in music21 format.\"\n",
        "    )\n",
        "    chain = prompt | llm\n",
        "    harmony = chain.invoke({\"melody\": state[\"melody\"]})\n",
        "    return {\"harmony\": harmony.content}\n",
        "\n",
        "def rhythm_analyzer(state: MusicState) -> Dict:\n",
        "    \"\"\"Analyze and suggest a rhythm for the melody and harmony.\"\"\"\n",
        "    prompt = ChatPromptTemplate.from_template(\n",
        "        \"Analyze and suggest a rhythm for this melody and harmony: {melody}, {harmony}. Represent it as a string of durations in music21 format.\"\n",
        "    )\n",
        "    chain = prompt | llm\n",
        "    rhythm = chain.invoke({\"melody\": state[\"melody\"], \"harmony\": state[\"harmony\"]})\n",
        "    return {\"rhythm\": rhythm.content}\n",
        "\n",
        "def style_adapter(state: MusicState) -> Dict:\n",
        "    \"\"\"Adapt the composition to the specified musical style.\"\"\"\n",
        "    prompt = ChatPromptTemplate.from_template(\n",
        "        \"Adapt this composition to the {style} style: Melody: {melody}, Harmony: {harmony}, Rhythm: {rhythm}. Provide the result in music21 format.\"\n",
        "    )\n",
        "    chain = prompt | llm\n",
        "    adapted = chain.invoke({\n",
        "        \"style\": state[\"style\"],\n",
        "        \"melody\": state[\"melody\"],\n",
        "        \"harmony\": state[\"harmony\"],\n",
        "        \"rhythm\": state[\"rhythm\"]\n",
        "    })\n",
        "    return {\"composition\": adapted.content}\n",
        "\n",
        "def midi_converter(state: MusicState) -> Dict:\n",
        "    \"\"\"Convert the composition to MIDI format and save it as a file.\"\"\"\n",
        "    # Create a new stream\n",
        "    piece = music21.stream.Score()\n",
        "\n",
        "    # Add the composition description to the stream as a text expression\n",
        "    description = music21.expressions.TextExpression(state[\"composition\"])\n",
        "    piece.append(description)\n",
        "\n",
        "    # Define a wide variety of scales and chords\n",
        "    scales = {\n",
        "        'C major': ['C', 'D', 'E', 'F', 'G', 'A', 'B'],\n",
        "        'C minor': ['C', 'D', 'Eb', 'F', 'G', 'Ab', 'Bb'],\n",
        "        'C harmonic minor': ['C', 'D', 'Eb', 'F', 'G', 'Ab', 'B'],\n",
        "        'C melodic minor': ['C', 'D', 'Eb', 'F', 'G', 'A', 'B'],\n",
        "        'C dorian': ['C', 'D', 'Eb', 'F', 'G', 'A', 'Bb'],\n",
        "        'C phrygian': ['C', 'Db', 'Eb', 'F', 'G', 'Ab', 'Bb'],\n",
        "        'C lydian': ['C', 'D', 'E', 'F#', 'G', 'A', 'B'],\n",
        "        'C mixolydian': ['C', 'D', 'E', 'F', 'G', 'A', 'Bb'],\n",
        "        'C locrian': ['C', 'Db', 'Eb', 'F', 'Gb', 'Ab', 'Bb'],\n",
        "        'C whole tone': ['C', 'D', 'E', 'F#', 'G#', 'A#'],\n",
        "        'C diminished': ['C', 'D', 'Eb', 'F', 'Gb', 'Ab', 'A', 'B'],\n",
        "    }\n",
        "\n",
        "    chords = {\n",
        "        'C major': ['C4', 'E4', 'G4'],\n",
        "        'C minor': ['C4', 'Eb4', 'G4'],\n",
        "        'C diminished': ['C4', 'Eb4', 'Gb4'],\n",
        "        'C augmented': ['C4', 'E4', 'G#4'],\n",
        "        'C dominant 7th': ['C4', 'E4', 'G4', 'Bb4'],\n",
        "        'C major 7th': ['C4', 'E4', 'G4', 'B4'],\n",
        "        'C minor 7th': ['C4', 'Eb4', 'G4', 'Bb4'],\n",
        "        'C half-diminished 7th': ['C4', 'Eb4', 'Gb4', 'Bb4'],\n",
        "        'C fully diminished 7th': ['C4', 'Eb4', 'Gb4', 'A4'],\n",
        "    }\n",
        "\n",
        "    def create_melody(scale_name, duration):\n",
        "        \"\"\"Create a melody based on a given scale.\"\"\"\n",
        "        melody = music21.stream.Part()\n",
        "        scale = scales[scale_name]\n",
        "        for _ in range(duration):\n",
        "            note = music21.note.Note(random.choice(scale) + '4')\n",
        "            note.quarterLength = 1\n",
        "            melody.append(note)\n",
        "        return melody\n",
        "\n",
        "    def create_chord_progression(duration):\n",
        "        \"\"\"Create a chord progression.\"\"\"\n",
        "        harmony = music21.stream.Part()\n",
        "        for _ in range(duration):\n",
        "            chord_name = random.choice(list(chords.keys()))\n",
        "            chord = music21.chord.Chord(chords[chord_name])\n",
        "            chord.quarterLength = 1\n",
        "            harmony.append(chord)\n",
        "        return harmony\n",
        "\n",
        "    # Parse the user input to determine scale and style\n",
        "    user_input = state['musician_input'].lower()\n",
        "    if 'minor' in user_input:\n",
        "        scale_name = 'C minor'\n",
        "    elif 'major' in user_input:\n",
        "        scale_name = 'C major'\n",
        "    else:\n",
        "        scale_name = random.choice(list(scales.keys()))\n",
        "\n",
        "    # Create a 7-second piece (7 beats at 60 BPM)\n",
        "    melody = create_melody(scale_name, 7)\n",
        "    harmony = create_chord_progression(7)\n",
        "\n",
        "    # Add a final whole note to make it exactly 8 beats (7 seconds at 60 BPM)\n",
        "    final_note = music21.note.Note(scales[scale_name][0] + '4')\n",
        "    final_note.quarterLength = 1\n",
        "    melody.append(final_note)\n",
        "\n",
        "    final_chord = music21.chord.Chord(chords[scale_name.split()[0] + ' ' + scale_name.split()[1]])\n",
        "    final_chord.quarterLength = 1\n",
        "    harmony.append(final_chord)\n",
        "\n",
        "    # Add the melody and harmony to the piece\n",
        "    piece.append(melody)\n",
        "    piece.append(harmony)\n",
        "\n",
        "    # Set the tempo to 60 BPM\n",
        "    piece.insert(0, music21.tempo.MetronomeMark(number=60))\n",
        "\n",
        "    # Create a temporary MIDI file\n",
        "    with tempfile.NamedTemporaryFile(delete=False, suffix='.mid') as temp_midi:\n",
        "        piece.write('midi', temp_midi.name)\n",
        "\n",
        "    return {\"midi_file\": temp_midi.name}\n"
      ],
      "metadata": {
        "id": "FOv0bMPGCSML"
      },
      "execution_count": 30,
      "outputs": []
    },
    {
      "cell_type": "markdown",
      "source": [
        "## Graph Construction\n",
        "\n",
        "Construct the LangGraph workflow for the AI Music Collaborator."
      ],
      "metadata": {
        "id": "W69fqaidDCfA"
      }
    },
    {
      "cell_type": "code",
      "source": [
        "# Initialize the StateGraph\n",
        "workflow = StateGraph(MusicState)\n",
        "\n",
        "# Add nodes to the graph\n",
        "workflow.add_node(\"melody_generator\", melody_generator)\n",
        "workflow.add_node(\"harmony_creator\", harmony_creator)\n",
        "workflow.add_node(\"rhythm_analyzer\", rhythm_analyzer)\n",
        "workflow.add_node(\"style_adapter\", style_adapter)\n",
        "workflow.add_node(\"midi_converter\", midi_converter)\n",
        "\n",
        "# Set the entry point of the graph\n",
        "workflow.set_entry_point(\"melody_generator\")\n",
        "\n",
        "# Add edges to connect the nodes\n",
        "workflow.add_edge(\"melody_generator\", \"harmony_creator\")\n",
        "workflow.add_edge(\"harmony_creator\", \"rhythm_analyzer\")\n",
        "workflow.add_edge(\"rhythm_analyzer\", \"style_adapter\")\n",
        "workflow.add_edge(\"style_adapter\", \"midi_converter\")\n",
        "workflow.add_edge(\"midi_converter\", END)\n",
        "\n",
        "# Compile the graph\n",
        "app = workflow.compile()"
      ],
      "metadata": {
        "id": "c9jdRr-NC_0a"
      },
      "execution_count": 31,
      "outputs": []
    },
    {
      "cell_type": "markdown",
      "source": [
        "## Display Graph"
      ],
      "metadata": {
        "id": "0XFZHJlNDRaA"
      }
    },
    {
      "cell_type": "code",
      "source": [
        "display(\n",
        "    Image(\n",
        "        app.get_graph().draw_mermaid_png(\n",
        "            draw_method=MermaidDrawMethod.API,\n",
        "        )\n",
        "    )\n",
        ")"
      ],
      "metadata": {
        "colab": {
          "base_uri": "https://localhost:8080/",
          "height": 647
        },
        "id": "kHeu9_7bDVQc",
        "outputId": "94bbbfff-d187-4440-e954-1a5996cf559d"
      },
      "execution_count": 32,
      "outputs": [
        {
          "output_type": "display_data",
          "data": {
            "image/jpeg": "[encoded data removed]",
            "text/plain": [
              "<IPython.core.display.Image object>"
            ]
          },
          "metadata": {}
        }
      ]
    },
    {
      "cell_type": "markdown",
      "source": [
        "## Run the Workflow\n",
        "\n",
        "Execute the AI Music Collaborator workflow to generate a musical composition."
      ],
      "metadata": {
        "id": "Gwbg8wJ8DHm6"
      }
    },
    {
      "cell_type": "code",
      "source": [
        "# Define input parameters\n",
        "inputs = {\n",
        "    \"musician_input\": \"Create a happy piano piece in C major\",\n",
        "    \"style\": \"Romantic era\"\n",
        "}\n",
        "\n",
        "# Invoke the workflow\n",
        "result = app.invoke(inputs)\n",
        "\n",
        "print(\"Composition created\")\n",
        "print(f\"MIDI file saved at: {result['midi_file']}\")"
      ],
      "metadata": {
        "colab": {
          "base_uri": "https://localhost:8080/",
          "height": 408
        },
        "id": "VGL3gqadDFd9",
        "outputId": "9ea4b8c0-6fb9-4206-dc13-d6830fd709b6"
      },
      "execution_count": 33,
      "outputs": [
        {
          "output_type": "error",
          "ename": "KeyboardInterrupt",
          "evalue": "",
          "traceback": [
            "\u001b[0;31m---------------------------------------------------------------------------\u001b[0m",
            "\u001b[0;31mKeyboardInterrupt\u001b[0m                         Traceback (most recent call last)",
            "\u001b[0;32m/usr/local/lib/python3.10/dist-packages/langchain_core/runnables/config.py\u001b[0m in \u001b[0;36mget_executor_for_config\u001b[0;34m(config)\u001b[0m\n\u001b[1;32m    554\u001b[0m     ) as executor:\n\u001b[0;32m--> 555\u001b[0;31m         \u001b[0;32myield\u001b[0m \u001b[0mexecutor\u001b[0m\u001b[0;34m\u001b[0m\u001b[0;34m\u001b[0m\u001b[0m\n\u001b[0m\u001b[1;32m    556\u001b[0m \u001b[0;34m\u001b[0m\u001b[0m\n",
            "\u001b[0;32m/usr/local/lib/python3.10/dist-packages/langgraph/pregel/__init__.py\u001b[0m in \u001b[0;36mstream\u001b[0;34m(self, input, config, stream_mode, output_keys, input_keys, interrupt_before, interrupt_after, debug)\u001b[0m\n\u001b[1;32m    831\u001b[0m                     \u001b[0;31m# each task is independent from all other concurrent tasks\u001b[0m\u001b[0;34m\u001b[0m\u001b[0;34m\u001b[0m\u001b[0m\n\u001b[0;32m--> 832\u001b[0;31m                     done, inflight = concurrent.futures.wait(\n\u001b[0m\u001b[1;32m    833\u001b[0m                         \u001b[0mfutures\u001b[0m\u001b[0;34m,\u001b[0m\u001b[0;34m\u001b[0m\u001b[0;34m\u001b[0m\u001b[0m\n",
            "\u001b[0;32m/usr/lib/python3.10/concurrent/futures/_base.py\u001b[0m in \u001b[0;36mwait\u001b[0;34m(fs, timeout, return_when)\u001b[0m\n\u001b[1;32m    306\u001b[0m \u001b[0;34m\u001b[0m\u001b[0m\n\u001b[0;32m--> 307\u001b[0;31m     \u001b[0mwaiter\u001b[0m\u001b[0;34m.\u001b[0m\u001b[0mevent\u001b[0m\u001b[0;34m.\u001b[0m\u001b[0mwait\u001b[0m\u001b[0;34m(\u001b[0m\u001b[0mtimeout\u001b[0m\u001b[0;34m)\u001b[0m\u001b[0;34m\u001b[0m\u001b[0;34m\u001b[0m\u001b[0m\n\u001b[0m\u001b[1;32m    308\u001b[0m     \u001b[0;32mfor\u001b[0m \u001b[0mf\u001b[0m \u001b[0;32min\u001b[0m \u001b[0mfs\u001b[0m\u001b[0;34m:\u001b[0m\u001b[0;34m\u001b[0m\u001b[0;34m\u001b[0m\u001b[0m\n",
            "\u001b[0;32m/usr/lib/python3.10/threading.py\u001b[0m in \u001b[0;36mwait\u001b[0;34m(self, timeout)\u001b[0m\n\u001b[1;32m    606\u001b[0m             \u001b[0;32mif\u001b[0m \u001b[0;32mnot\u001b[0m \u001b[0msignaled\u001b[0m\u001b[0;34m:\u001b[0m\u001b[0;34m\u001b[0m\u001b[0;34m\u001b[0m\u001b[0m\n\u001b[0;32m--> 607\u001b[0;31m                 \u001b[0msignaled\u001b[0m \u001b[0;34m=\u001b[0m \u001b[0mself\u001b[0m\u001b[0;34m.\u001b[0m\u001b[0m_cond\u001b[0m\u001b[0;34m.\u001b[0m\u001b[0mwait\u001b[0m\u001b[0;34m(\u001b[0m\u001b[0mtimeout\u001b[0m\u001b[0;34m)\u001b[0m\u001b[0;34m\u001b[0m\u001b[0;34m\u001b[0m\u001b[0m\n\u001b[0m\u001b[1;32m    608\u001b[0m             \u001b[0;32mreturn\u001b[0m \u001b[0msignaled\u001b[0m\u001b[0;34m\u001b[0m\u001b[0;34m\u001b[0m\u001b[0m\n",
            "\u001b[0;32m/usr/lib/python3.10/threading.py\u001b[0m in \u001b[0;36mwait\u001b[0;34m(self, timeout)\u001b[0m\n\u001b[1;32m    319\u001b[0m             \u001b[0;32mif\u001b[0m \u001b[0mtimeout\u001b[0m \u001b[0;32mis\u001b[0m \u001b[0;32mNone\u001b[0m\u001b[0;34m:\u001b[0m\u001b[0;34m\u001b[0m\u001b[0;34m\u001b[0m\u001b[0m\n\u001b[0;32m--> 320\u001b[0;31m                 \u001b[0mwaiter\u001b[0m\u001b[0;34m.\u001b[0m\u001b[0macquire\u001b[0m\u001b[0;34m(\u001b[0m\u001b[0;34m)\u001b[0m\u001b[0;34m\u001b[0m\u001b[0;34m\u001b[0m\u001b[0m\n\u001b[0m\u001b[1;32m    321\u001b[0m                 \u001b[0mgotit\u001b[0m \u001b[0;34m=\u001b[0m \u001b[0;32mTrue\u001b[0m\u001b[0;34m\u001b[0m\u001b[0;34m\u001b[0m\u001b[0m\n",
            "\u001b[0;31mKeyboardInterrupt\u001b[0m: ",
            "\nDuring handling of the above exception, another exception occurred:\n",
            "\u001b[0;31mKeyboardInterrupt\u001b[0m                         Traceback (most recent call last)",
            "\u001b[0;32m<ipython-input-33-71ac03855916>\u001b[0m in \u001b[0;36m<cell line: 8>\u001b[0;34m()\u001b[0m\n\u001b[1;32m      6\u001b[0m \u001b[0;34m\u001b[0m\u001b[0m\n\u001b[1;32m      7\u001b[0m \u001b[0;31m# Invoke the workflow\u001b[0m\u001b[0;34m\u001b[0m\u001b[0;34m\u001b[0m\u001b[0m\n\u001b[0;32m----> 8\u001b[0;31m \u001b[0mresult\u001b[0m \u001b[0;34m=\u001b[0m \u001b[0mapp\u001b[0m\u001b[0;34m.\u001b[0m\u001b[0minvoke\u001b[0m\u001b[0;34m(\u001b[0m\u001b[0minputs\u001b[0m\u001b[0;34m)\u001b[0m\u001b[0;34m\u001b[0m\u001b[0;34m\u001b[0m\u001b[0m\n\u001b[0m\u001b[1;32m      9\u001b[0m \u001b[0;34m\u001b[0m\u001b[0m\n\u001b[1;32m     10\u001b[0m \u001b[0mprint\u001b[0m\u001b[0;34m(\u001b[0m\u001b[0;34m\"Composition created\"\u001b[0m\u001b[0;34m)\u001b[0m\u001b[0;34m\u001b[0m\u001b[0;34m\u001b[0m\u001b[0m\n",
            "\u001b[0;32m/usr/local/lib/python3.10/dist-packages/langgraph/pregel/__init__.py\u001b[0m in \u001b[0;36minvoke\u001b[0;34m(self, input, config, stream_mode, output_keys, input_keys, interrupt_before, interrupt_after, debug, **kwargs)\u001b[0m\n\u001b[1;32m   1251\u001b[0m         \u001b[0;32melse\u001b[0m\u001b[0;34m:\u001b[0m\u001b[0;34m\u001b[0m\u001b[0;34m\u001b[0m\u001b[0m\n\u001b[1;32m   1252\u001b[0m             \u001b[0mchunks\u001b[0m \u001b[0;34m=\u001b[0m \u001b[0;34m[\u001b[0m\u001b[0;34m]\u001b[0m\u001b[0;34m\u001b[0m\u001b[0;34m\u001b[0m\u001b[0m\n\u001b[0;32m-> 1253\u001b[0;31m         for chunk in self.stream(\n\u001b[0m\u001b[1;32m   1254\u001b[0m             \u001b[0minput\u001b[0m\u001b[0;34m,\u001b[0m\u001b[0;34m\u001b[0m\u001b[0;34m\u001b[0m\u001b[0m\n\u001b[1;32m   1255\u001b[0m             \u001b[0mconfig\u001b[0m\u001b[0;34m,\u001b[0m\u001b[0;34m\u001b[0m\u001b[0;34m\u001b[0m\u001b[0m\n",
            "\u001b[0;32m/usr/local/lib/python3.10/dist-packages/langgraph/pregel/__init__.py\u001b[0m in \u001b[0;36mstream\u001b[0;34m(self, input, config, stream_mode, output_keys, input_keys, interrupt_before, interrupt_after, debug)\u001b[0m\n\u001b[1;32m    732\u001b[0m             \u001b[0mstart\u001b[0m \u001b[0;34m=\u001b[0m \u001b[0msaved\u001b[0m\u001b[0;34m.\u001b[0m\u001b[0mmetadata\u001b[0m\u001b[0;34m.\u001b[0m\u001b[0mget\u001b[0m\u001b[0;34m(\u001b[0m\u001b[0;34m\"step\"\u001b[0m\u001b[0;34m,\u001b[0m \u001b[0;34m-\u001b[0m\u001b[0;36m2\u001b[0m\u001b[0;34m)\u001b[0m \u001b[0;34m+\u001b[0m \u001b[0;36m1\u001b[0m \u001b[0;32mif\u001b[0m \u001b[0msaved\u001b[0m \u001b[0;32melse\u001b[0m \u001b[0;34m-\u001b[0m\u001b[0;36m1\u001b[0m\u001b[0;34m\u001b[0m\u001b[0;34m\u001b[0m\u001b[0m\n\u001b[1;32m    733\u001b[0m             \u001b[0;31m# create channels from checkpoint\u001b[0m\u001b[0;34m\u001b[0m\u001b[0;34m\u001b[0m\u001b[0m\n\u001b[0;32m--> 734\u001b[0;31m             with ChannelsManager(\n\u001b[0m\u001b[1;32m    735\u001b[0m                 \u001b[0mself\u001b[0m\u001b[0;34m.\u001b[0m\u001b[0mchannels\u001b[0m\u001b[0;34m,\u001b[0m \u001b[0mcheckpoint\u001b[0m\u001b[0;34m\u001b[0m\u001b[0;34m\u001b[0m\u001b[0m\n\u001b[1;32m    736\u001b[0m             \u001b[0;34m)\u001b[0m \u001b[0;32mas\u001b[0m \u001b[0mchannels\u001b[0m\u001b[0;34m,\u001b[0m \u001b[0mget_executor_for_config\u001b[0m\u001b[0;34m(\u001b[0m\u001b[0;34m\u001b[0m\u001b[0;34m\u001b[0m\u001b[0m\n",
            "\u001b[0;32m/usr/lib/python3.10/contextlib.py\u001b[0m in \u001b[0;36m__exit__\u001b[0;34m(self, typ, value, traceback)\u001b[0m\n\u001b[1;32m    151\u001b[0m                 \u001b[0mvalue\u001b[0m \u001b[0;34m=\u001b[0m \u001b[0mtyp\u001b[0m\u001b[0;34m(\u001b[0m\u001b[0;34m)\u001b[0m\u001b[0;34m\u001b[0m\u001b[0;34m\u001b[0m\u001b[0m\n\u001b[1;32m    152\u001b[0m             \u001b[0;32mtry\u001b[0m\u001b[0;34m:\u001b[0m\u001b[0;34m\u001b[0m\u001b[0;34m\u001b[0m\u001b[0m\n\u001b[0;32m--> 153\u001b[0;31m                 \u001b[0mself\u001b[0m\u001b[0;34m.\u001b[0m\u001b[0mgen\u001b[0m\u001b[0;34m.\u001b[0m\u001b[0mthrow\u001b[0m\u001b[0;34m(\u001b[0m\u001b[0mtyp\u001b[0m\u001b[0;34m,\u001b[0m \u001b[0mvalue\u001b[0m\u001b[0;34m,\u001b[0m \u001b[0mtraceback\u001b[0m\u001b[0;34m)\u001b[0m\u001b[0;34m\u001b[0m\u001b[0;34m\u001b[0m\u001b[0m\n\u001b[0m\u001b[1;32m    154\u001b[0m             \u001b[0;32mexcept\u001b[0m \u001b[0mStopIteration\u001b[0m \u001b[0;32mas\u001b[0m \u001b[0mexc\u001b[0m\u001b[0;34m:\u001b[0m\u001b[0;34m\u001b[0m\u001b[0;34m\u001b[0m\u001b[0m\n\u001b[1;32m    155\u001b[0m                 \u001b[0;31m# Suppress StopIteration *unless* it's the same exception that\u001b[0m\u001b[0;34m\u001b[0m\u001b[0;34m\u001b[0m\u001b[0m\n",
            "\u001b[0;32m/usr/local/lib/python3.10/dist-packages/langchain_core/runnables/config.py\u001b[0m in \u001b[0;36mget_executor_for_config\u001b[0;34m(config)\u001b[0m\n\u001b[1;32m    550\u001b[0m     \"\"\"\n\u001b[1;32m    551\u001b[0m     \u001b[0mconfig\u001b[0m \u001b[0;34m=\u001b[0m \u001b[0mconfig\u001b[0m \u001b[0;32mor\u001b[0m \u001b[0;34m{\u001b[0m\u001b[0;34m}\u001b[0m\u001b[0;34m\u001b[0m\u001b[0;34m\u001b[0m\u001b[0m\n\u001b[0;32m--> 552\u001b[0;31m     with ContextThreadPoolExecutor(\n\u001b[0m\u001b[1;32m    553\u001b[0m         \u001b[0mmax_workers\u001b[0m\u001b[0;34m=\u001b[0m\u001b[0mconfig\u001b[0m\u001b[0;34m.\u001b[0m\u001b[0mget\u001b[0m\u001b[0;34m(\u001b[0m\u001b[0;34m\"max_concurrency\"\u001b[0m\u001b[0;34m)\u001b[0m\u001b[0;34m\u001b[0m\u001b[0;34m\u001b[0m\u001b[0m\n\u001b[1;32m    554\u001b[0m     ) as executor:\n",
            "\u001b[0;32m/usr/lib/python3.10/concurrent/futures/_base.py\u001b[0m in \u001b[0;36m__exit__\u001b[0;34m(self, exc_type, exc_val, exc_tb)\u001b[0m\n\u001b[1;32m    647\u001b[0m \u001b[0;34m\u001b[0m\u001b[0m\n\u001b[1;32m    648\u001b[0m     \u001b[0;32mdef\u001b[0m \u001b[0m__exit__\u001b[0m\u001b[0;34m(\u001b[0m\u001b[0mself\u001b[0m\u001b[0;34m,\u001b[0m \u001b[0mexc_type\u001b[0m\u001b[0;34m,\u001b[0m \u001b[0mexc_val\u001b[0m\u001b[0;34m,\u001b[0m \u001b[0mexc_tb\u001b[0m\u001b[0;34m)\u001b[0m\u001b[0;34m:\u001b[0m\u001b[0;34m\u001b[0m\u001b[0;34m\u001b[0m\u001b[0m\n\u001b[0;32m--> 649\u001b[0;31m         \u001b[0mself\u001b[0m\u001b[0;34m.\u001b[0m\u001b[0mshutdown\u001b[0m\u001b[0;34m(\u001b[0m\u001b[0mwait\u001b[0m\u001b[0;34m=\u001b[0m\u001b[0;32mTrue\u001b[0m\u001b[0;34m)\u001b[0m\u001b[0;34m\u001b[0m\u001b[0;34m\u001b[0m\u001b[0m\n\u001b[0m\u001b[1;32m    650\u001b[0m         \u001b[0;32mreturn\u001b[0m \u001b[0;32mFalse\u001b[0m\u001b[0;34m\u001b[0m\u001b[0;34m\u001b[0m\u001b[0m\n\u001b[1;32m    651\u001b[0m \u001b[0;34m\u001b[0m\u001b[0m\n",
            "\u001b[0;32m/usr/lib/python3.10/concurrent/futures/thread.py\u001b[0m in \u001b[0;36mshutdown\u001b[0;34m(self, wait, cancel_futures)\u001b[0m\n\u001b[1;32m    233\u001b[0m         \u001b[0;32mif\u001b[0m \u001b[0mwait\u001b[0m\u001b[0;34m:\u001b[0m\u001b[0;34m\u001b[0m\u001b[0;34m\u001b[0m\u001b[0m\n\u001b[1;32m    234\u001b[0m             \u001b[0;32mfor\u001b[0m \u001b[0mt\u001b[0m \u001b[0;32min\u001b[0m \u001b[0mself\u001b[0m\u001b[0;34m.\u001b[0m\u001b[0m_threads\u001b[0m\u001b[0;34m:\u001b[0m\u001b[0;34m\u001b[0m\u001b[0;34m\u001b[0m\u001b[0m\n\u001b[0;32m--> 235\u001b[0;31m                 \u001b[0mt\u001b[0m\u001b[0;34m.\u001b[0m\u001b[0mjoin\u001b[0m\u001b[0;34m(\u001b[0m\u001b[0;34m)\u001b[0m\u001b[0;34m\u001b[0m\u001b[0;34m\u001b[0m\u001b[0m\n\u001b[0m\u001b[1;32m    236\u001b[0m     \u001b[0mshutdown\u001b[0m\u001b[0;34m.\u001b[0m\u001b[0m__doc__\u001b[0m \u001b[0;34m=\u001b[0m \u001b[0m_base\u001b[0m\u001b[0;34m.\u001b[0m\u001b[0mExecutor\u001b[0m\u001b[0;34m.\u001b[0m\u001b[0mshutdown\u001b[0m\u001b[0;34m.\u001b[0m\u001b[0m__doc__\u001b[0m\u001b[0;34m\u001b[0m\u001b[0;34m\u001b[0m\u001b[0m\n",
            "\u001b[0;32m/usr/lib/python3.10/threading.py\u001b[0m in \u001b[0;36mjoin\u001b[0;34m(self, timeout)\u001b[0m\n\u001b[1;32m   1094\u001b[0m \u001b[0;34m\u001b[0m\u001b[0m\n\u001b[1;32m   1095\u001b[0m         \u001b[0;32mif\u001b[0m \u001b[0mtimeout\u001b[0m \u001b[0;32mis\u001b[0m \u001b[0;32mNone\u001b[0m\u001b[0;34m:\u001b[0m\u001b[0;34m\u001b[0m\u001b[0;34m\u001b[0m\u001b[0m\n\u001b[0;32m-> 1096\u001b[0;31m             \u001b[0mself\u001b[0m\u001b[0;34m.\u001b[0m\u001b[0m_wait_for_tstate_lock\u001b[0m\u001b[0;34m(\u001b[0m\u001b[0;34m)\u001b[0m\u001b[0;34m\u001b[0m\u001b[0;34m\u001b[0m\u001b[0m\n\u001b[0m\u001b[1;32m   1097\u001b[0m         \u001b[0;32melse\u001b[0m\u001b[0;34m:\u001b[0m\u001b[0;34m\u001b[0m\u001b[0;34m\u001b[0m\u001b[0m\n\u001b[1;32m   1098\u001b[0m             \u001b[0;31m# the behavior of a negative timeout isn't documented, but\u001b[0m\u001b[0;34m\u001b[0m\u001b[0;34m\u001b[0m\u001b[0m\n",
            "\u001b[0;32m/usr/lib/python3.10/threading.py\u001b[0m in \u001b[0;36m_wait_for_tstate_lock\u001b[0;34m(self, block, timeout)\u001b[0m\n\u001b[1;32m   1114\u001b[0m \u001b[0;34m\u001b[0m\u001b[0m\n\u001b[1;32m   1115\u001b[0m         \u001b[0;32mtry\u001b[0m\u001b[0;34m:\u001b[0m\u001b[0;34m\u001b[0m\u001b[0;34m\u001b[0m\u001b[0m\n\u001b[0;32m-> 1116\u001b[0;31m             \u001b[0;32mif\u001b[0m \u001b[0mlock\u001b[0m\u001b[0;34m.\u001b[0m\u001b[0macquire\u001b[0m\u001b[0;34m(\u001b[0m\u001b[0mblock\u001b[0m\u001b[0;34m,\u001b[0m \u001b[0mtimeout\u001b[0m\u001b[0;34m)\u001b[0m\u001b[0;34m:\u001b[0m\u001b[0;34m\u001b[0m\u001b[0;34m\u001b[0m\u001b[0m\n\u001b[0m\u001b[1;32m   1117\u001b[0m                 \u001b[0mlock\u001b[0m\u001b[0;34m.\u001b[0m\u001b[0mrelease\u001b[0m\u001b[0;34m(\u001b[0m\u001b[0;34m)\u001b[0m\u001b[0;34m\u001b[0m\u001b[0;34m\u001b[0m\u001b[0m\n\u001b[1;32m   1118\u001b[0m                 \u001b[0mself\u001b[0m\u001b[0;34m.\u001b[0m\u001b[0m_stop\u001b[0m\u001b[0;34m(\u001b[0m\u001b[0;34m)\u001b[0m\u001b[0;34m\u001b[0m\u001b[0;34m\u001b[0m\u001b[0m\n",
            "\u001b[0;31mKeyboardInterrupt\u001b[0m: "
          ]
        }
      ]
    }
  ]
}