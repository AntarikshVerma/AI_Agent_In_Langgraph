{
  "nbformat": 4,
  "nbformat_minor": 0,
  "metadata": {
    "colab": {
      "provenance": [],
      "authorship_tag": "ABX9TyOrj7kHxGywY5LJtSEc8rKu",
      "include_colab_link": true
    },
    "kernelspec": {
      "name": "python3",
      "display_name": "Python 3"
    },
    "language_info": {
      "name": "python"
    }
  },
  "cells": [
    {
      "cell_type": "markdown",
      "metadata": {
        "id": "view-in-github",
        "colab_type": "text"
      },
      "source": [
        "<a href=\"https://colab.research.google.com/github/AntarikshVerma/AI_Agent_In_Langgraph/blob/main/travel_planner_agent.ipynb\" target=\"_parent\"><img src=\"https://colab.research.google.com/assets/colab-badge.svg\" alt=\"Open In Colab\"/></a>"
      ]
    },
    {
      "cell_type": "markdown",
      "source": [
        "#Building a Travel Planner with LangGraph:\n",
        "##Overview\n",
        "This tutorial guides you through the process of creating a simple Travel Planner using LangGraph, a library for building stateful, multi-step applications with language models. The Travel Planner demonstrates how to structure a conversational AI application that collects user input and generates personalized travel itineraries.\n",
        "\n",
        "##Key Components\n",
        "1.  StateGraph: The core of our application, defining the flow of our Travel Planner.\n",
        "2.  PlannerState: A custom type representing the state of our planning process.\n",
        "3.  Node Functions: Individual steps in our planning process (input_city, input_interests, create_itinerary).\n",
        "4.  LLM Integration: Utilizing a language model to generate the final itinerary.\n",
        "Method Details\n",
        "\n",
        "Our Travel Planner follows a straightforward, three-step process:\n",
        "\n",
        "####City Input:\n",
        "The application prompts the user to enter the city they want to visit.\n",
        "This information is stored in the state.\n",
        "\n",
        "####Interests Input:\n",
        "The user is asked to provide their interests for the trip.\n",
        "These interests are stored as a list in the state.\n",
        "\n",
        "###Itinerary Creation:\n",
        "Using the collected city and interests, the application leverages a language model to generate a personalized day trip itinerary.\n",
        "The generated itinerary is presented to the user.\n",
        "The flow between these steps is managed by LangGraph, which handles the state transitions and ensures that each step is executed in the correct order.\n"
      ],
      "metadata": {
        "id": "XW4uDMIh5NZm"
      }
    },
    {
      "cell_type": "code",
      "execution_count": null,
      "metadata": {
        "id": "meIJbTVl3hz3",
        "colab": {
          "base_uri": "https://localhost:8080/"
        },
        "outputId": "47d1b1f1-574c-4814-d718-7b9815086209"
      },
      "outputs": [
        {
          "output_type": "stream",
          "name": "stdout",
          "text": [
            "Collecting tavily-python==0.3.3\n",
            "  Downloading tavily_python-0.3.3-py3-none-any.whl.metadata (4.4 kB)\n",
            "Requirement already satisfied: requests in /usr/local/lib/python3.10/dist-packages (from tavily-python==0.3.3) (2.32.3)\n",
            "Collecting tiktoken<1,>=0.5.2 (from tavily-python==0.3.3)\n",
            "  Downloading tiktoken-0.7.0-cp310-cp310-manylinux_2_17_x86_64.manylinux2014_x86_64.whl.metadata (6.6 kB)\n",
            "Requirement already satisfied: regex>=2022.1.18 in /usr/local/lib/python3.10/dist-packages (from tiktoken<1,>=0.5.2->tavily-python==0.3.3) (2024.9.11)\n",
            "Requirement already satisfied: charset-normalizer<4,>=2 in /usr/local/lib/python3.10/dist-packages (from requests->tavily-python==0.3.3) (3.3.2)\n",
            "Requirement already satisfied: idna<4,>=2.5 in /usr/local/lib/python3.10/dist-packages (from requests->tavily-python==0.3.3) (3.10)\n",
            "Requirement already satisfied: urllib3<3,>=1.21.1 in /usr/local/lib/python3.10/dist-packages (from requests->tavily-python==0.3.3) (2.2.3)\n",
            "Requirement already satisfied: certifi>=2017.4.17 in /usr/local/lib/python3.10/dist-packages (from requests->tavily-python==0.3.3) (2024.8.30)\n",
            "Downloading tavily_python-0.3.3-py3-none-any.whl (5.4 kB)\n",
            "Downloading tiktoken-0.7.0-cp310-cp310-manylinux_2_17_x86_64.manylinux2014_x86_64.whl (1.1 MB)\n",
            "\u001b[2K   \u001b[90m━━━━━━━━━━━━━━━━━━━━━━━━━━━━━━━━━━━━━━━━\u001b[0m \u001b[32m1.1/1.1 MB\u001b[0m \u001b[31m14.8 MB/s\u001b[0m eta \u001b[36m0:00:00\u001b[0m\n",
            "\u001b[?25hInstalling collected packages: tiktoken, tavily-python\n"
          ]
        }
      ],
      "source": [
        "!pip install tavily-python==0.3.3\n",
        "!pip install duckduckgo_search==5.3.1b1\n",
        "!pip install beautifulsoup4==4.12.3\n",
        "!pip install openai==1.30.1\n",
        "!pip install langgraph==0.0.53\n",
        "!pip install langchain_core==0.2.0\n",
        "!pip install langchain_openai==0.1.7\n",
        "!pip install langchain-community==0.2.0\n",
        "!pip install langchain==0.2.0\n",
        "!pip install aiosqlite==0.20.0\n",
        "!pip install pygments==2.17.2\n",
        "!pip install pygraphviz==1.13\n",
        "!pip install gradio==4.31.3\n",
        "!apt install libgraphviz-dev\n",
        "!pip install pygraphviz"
      ]
    },
    {
      "cell_type": "markdown",
      "source": [],
      "metadata": {
        "id": "hCS102Kl5JXB"
      }
    }
  ]
}