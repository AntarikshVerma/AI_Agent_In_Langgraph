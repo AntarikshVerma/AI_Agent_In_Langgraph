{
  "nbformat": 4,
  "nbformat_minor": 0,
  "metadata": {
    "colab": {
      "provenance": [],
      "authorship_tag": "ABX9TyPvrI4jWoeyCiTH8V18B8Tr",
      "include_colab_link": true
    },
    "kernelspec": {
      "name": "python3",
      "display_name": "Python 3"
    },
    "language_info": {
      "name": "python"
    }
  },
  "cells": [
    {
      "cell_type": "markdown",
      "metadata": {
        "id": "view-in-github",
        "colab_type": "text"
      },
      "source": [
        "<a href=\"https://colab.research.google.com/github/AntarikshVerma/AI_Agent_In_Langgraph/blob/main/travel_planner_agent.ipynb\" target=\"_parent\"><img src=\"https://colab.research.google.com/assets/colab-badge.svg\" alt=\"Open In Colab\"/></a>"
      ]
    },
    {
      "cell_type": "markdown",
      "source": [
        "#Building a Travel Planner with LangGraph:\n",
        "##Overview\n",
        "This tutorial guides you through the process of creating a simple Travel Planner using LangGraph, a library for building stateful, multi-step applications with language models. The Travel Planner demonstrates how to structure a conversational AI application that collects user input and generates personalized travel itineraries.\n",
        "\n",
        "##Key Components\n",
        "1.  StateGraph: The core of our application, defining the flow of our Travel Planner.\n",
        "2.  PlannerState: A custom type representing the state of our planning process.\n",
        "3.  Node Functions: Individual steps in our planning process (input_city, input_interests, create_itinerary).\n",
        "4.  LLM Integration: Utilizing a language model to generate the final itinerary.\n",
        "Method Details\n",
        "\n",
        "Our Travel Planner follows a straightforward, three-step process:\n",
        "\n",
        "####City Input:\n",
        "The application prompts the user to enter the city they want to visit.\n",
        "This information is stored in the state.\n",
        "\n",
        "####Interests Input:\n",
        "The user is asked to provide their interests for the trip.\n",
        "These interests are stored as a list in the state.\n",
        "\n",
        "####Itinerary Creation:\n",
        "Using the collected city and interests, the application leverages a language model to generate a personalized day trip itinerary.\n",
        "The generated itinerary is presented to the user.\n",
        "The flow between these steps is managed by LangGraph, which handles the state transitions and ensures that each step is executed in the correct order.\n"
      ],
      "metadata": {
        "id": "XW4uDMIh5NZm"
      }
    },
    {
      "cell_type": "code",
      "execution_count": 3,
      "metadata": {
        "id": "meIJbTVl3hz3"
      },
      "outputs": [],
      "source": [
        "# !pip install tavily-python==0.3.3\n",
        "# !pip install duckduckgo_search==5.3.1b1\n",
        "# !pip install beautifulsoup4==4.12.3\n",
        "# !pip install openai==1.30.1\n",
        "# !pip install langgraph==0.0.53\n",
        "# !pip install langchain_core==0.2.0\n",
        "# !pip install langchain_openai==0.1.7\n",
        "# !pip install langchain-community==0.2.0\n",
        "# !pip install langchain==0.2.0\n",
        "# !pip install aiosqlite==0.20.0\n",
        "# !pip install pygments==2.17.2\n",
        "# !pip install pygraphviz==1.13\n",
        "# !pip install gradio==4.31.3\n",
        "# !apt install libgraphviz-dev\n",
        "# !pip install pygraphviz\n",
        "# !apt install libgraphviz-dev"
      ]
    },
    {
      "cell_type": "code",
      "source": [
        "import os\n",
        "from google.colab import userdata\n",
        "open_ai_key=userdata.get('OPENAI_API_KEY')\n",
        "open_ai_base=userdata.get('OPEN_API_URL')\n",
        "open_ai_base=userdata.get('OPEN_API_URL')\n",
        "tavili_api_key=userdata.get('TAVILY_API_KEY')\n",
        "api_version=\"2023-07-01-preview\"\n",
        "\n",
        "os.environ[\"OPENAI_API_VERSION\"] = \"2023-12-01-preview\"\n",
        "os.environ[\"AZURE_OPENAI_ENDPOINT\"] = open_ai_base\n",
        "os.environ[\"AZURE_OPENAI_API_KEY\"] = open_ai_key"
      ],
      "metadata": {
        "id": "3PDn9oq96jh6"
      },
      "execution_count": 4,
      "outputs": []
    },
    {
      "cell_type": "code",
      "source": [
        "import operator\n",
        "from langchain_core.messages import AnyMessage, SystemMessage, HumanMessage, ToolMessage\n",
        "from langchain_openai import ChatOpenAI\n",
        "from langchain_openai import AzureChatOpenAI\n",
        "from langchain_community.callbacks import get_openai_callback\n",
        "from typing import TypedDict, Annotated, List\n",
        "from langgraph.graph import StateGraph, END\n",
        "from langchain_core.messages import HumanMessage, AIMessage\n",
        "from langchain_core.prompts import ChatPromptTemplate\n",
        "from langchain_openai import ChatOpenAI\n",
        "from langchain_core.runnables.graph import MermaidDrawMethod\n",
        "from IPython.display import display, Image"
      ],
      "metadata": {
        "id": "Hqmd4wF17DQi"
      },
      "execution_count": 8,
      "outputs": []
    },
    {
      "cell_type": "markdown",
      "source": [
        "### Set Up Language Model"
      ],
      "metadata": {
        "id": "QkLrckbh79YI"
      }
    },
    {
      "cell_type": "code",
      "source": [
        "llm = AzureChatOpenAI(\n",
        "    azure_deployment=\"gpt-4\",\n",
        "    api_version=\"2023-06-01-preview\",\n",
        "    temperature=0,\n",
        "    max_tokens=None,\n",
        "    timeout=None,\n",
        "    max_retries=2,\n",
        ")\n",
        "\n",
        "itinerary_prompt = ChatPromptTemplate.from_messages([\n",
        "    (\"system\", \"You are a helpful travel assistant. Create a day trip itinerary for {city} based on the user's interests: {interests}. Provide a brief, bulleted itinerary.\"),\n",
        "    (\"human\", \"Create an itinerary for my day trip.\"),\n",
        "])\n",
        "\n",
        "# To Check cost\n",
        "\n",
        "# with get_openai_callback() as cb:\n",
        "#     llm_gpt_4.invoke(messages)\n",
        "#     print(f\"Total Cost (USD): ${format(cb.total_cost, '.6f')}\")\n",
        "# print(llm_gpt_4)\n"
      ],
      "metadata": {
        "id": "5MMk17TL7J-g"
      },
      "execution_count": 13,
      "outputs": []
    },
    {
      "cell_type": "markdown",
      "source": [
        "### Define a Agent class"
      ],
      "metadata": {
        "id": "hCS102Kl5JXB"
      }
    },
    {
      "cell_type": "code",
      "source": [
        "class PlannerState(TypedDict):\n",
        "    messages: Annotated[List[HumanMessage | AIMessage], \"The messages in the conversation\"]\n",
        "    city: str\n",
        "    interests: List[str]\n",
        "    itinerary: str"
      ],
      "metadata": {
        "id": "fjEqGhiZ7V5y"
      },
      "execution_count": 12,
      "outputs": []
    },
    {
      "cell_type": "markdown",
      "source": [
        "### Define Agent functions"
      ],
      "metadata": {
        "id": "NeOGIyW18Qrj"
      }
    },
    {
      "cell_type": "code",
      "source": [
        "def input_city(state: PlannerState) -> PlannerState:\n",
        "    print(\"Please enter the city you want to visit for your day trip:\")\n",
        "    user_message = input(\"Your input: \")\n",
        "    return {\n",
        "        **state,\n",
        "        \"city\": user_message,\n",
        "        \"messages\": state['messages'] + [HumanMessage(content=user_message)],\n",
        "    }\n",
        "\n",
        "def input_interests(state: PlannerState) -> PlannerState:\n",
        "    print(f\"Please enter your interests for the trip to {state['city']} (comma-separated):\")\n",
        "    user_message = input(\"Your input: \")\n",
        "    return {\n",
        "        **state,\n",
        "        \"interests\": [interest.strip() for interest in user_message.split(',')],\n",
        "        \"messages\": state['messages'] + [HumanMessage(content=user_message)],\n",
        "    }\n",
        "\n",
        "def create_itinerary(state: PlannerState) -> PlannerState:\n",
        "    print(f\"Creating an itinerary for {state['city']} based on interests: {', '.join(state['interests'])}...\")\n",
        "    response = llm.invoke(itinerary_prompt.format_messages(city=state['city'], interests=\", \".join(state['interests'])))\n",
        "    print(\"\\nFinal Itinerary:\")\n",
        "    print(response.content)\n",
        "    return {\n",
        "        **state,\n",
        "        \"messages\": state['messages'] + [AIMessage(content=response.content)],\n",
        "        \"itinerary\": response.content,\n",
        "    }"
      ],
      "metadata": {
        "id": "6V3bZuq78Oye"
      },
      "execution_count": 14,
      "outputs": []
    },
    {
      "cell_type": "markdown",
      "source": [
        "### Create and Compile the Graph\n",
        "Now we'll create our LangGraph workflow and compile it."
      ],
      "metadata": {
        "id": "3YOnzAvs8cJq"
      }
    },
    {
      "cell_type": "code",
      "source": [
        "workflow = StateGraph(PlannerState)\n",
        "\n",
        "workflow.add_node(\"input_city\", input_city)\n",
        "workflow.add_node(\"input_interests\", input_interests)\n",
        "workflow.add_node(\"create_itinerary\", create_itinerary)\n",
        "\n",
        "workflow.set_entry_point(\"input_city\")\n",
        "\n",
        "workflow.add_edge(\"input_city\", \"input_interests\")\n",
        "workflow.add_edge(\"input_interests\", \"create_itinerary\")\n",
        "workflow.add_edge(\"create_itinerary\", END)\n",
        "\n",
        "app = workflow.compile()"
      ],
      "metadata": {
        "id": "q4lo1HjB73pd"
      },
      "execution_count": 15,
      "outputs": []
    },
    {
      "cell_type": "code",
      "source": [
        "display(\n",
        "    Image(\n",
        "        app.get_graph().draw_mermaid_png(\n",
        "            draw_method=MermaidDrawMethod.API,\n",
        "        )\n",
        "    )\n",
        ")"
      ],
      "metadata": {
        "id": "tlB64ayz8it1",
        "outputId": "c41e5c9c-a5ae-46fe-c707-1f7b20aa8905",
        "colab": {
          "base_uri": "https://localhost:8080/",
          "height": 449
        }
      },
      "execution_count": 16,
      "outputs": [
        {
          "output_type": "display_data",
          "data": {
            "image/jpeg": "[encoded data removed]",
            "text/plain": [
              "<IPython.core.display.Image object>"
            ]
          },
          "metadata": {}
        }
      ]
    },
    {
      "cell_type": "markdown",
      "source": [
        "### Define the main function that runs the graph\n"
      ],
      "metadata": {
        "id": "g_epWW_G8pt5"
      }
    },
    {
      "cell_type": "code",
      "source": [
        "def run_travel_planner(user_request: str):\n",
        "    print(f\"Initial Request: {user_request}\\n\")\n",
        "    state = {\n",
        "        \"messages\": [HumanMessage(content=user_request)],\n",
        "        \"city\": \"\",\n",
        "        \"interests\": [],\n",
        "        \"itinerary\": \"\",\n",
        "    }\n",
        "\n",
        "    for output in app.stream(state):\n",
        "        pass  # The nodes themselves now handle all printing"
      ],
      "metadata": {
        "id": "nmUjh3Ha8lBk"
      },
      "execution_count": 17,
      "outputs": []
    },
    {
      "cell_type": "markdown",
      "source": [
        "### Run Workflow Example"
      ],
      "metadata": {
        "id": "2ZG5gZgy80fD"
      }
    },
    {
      "cell_type": "code",
      "source": [
        "user_request = \"I want to plan a day trip.\"\n",
        "run_travel_planner(user_request)"
      ],
      "metadata": {
        "id": "h7Pu6mY08v81",
        "outputId": "db6ba14d-f41c-41e9-f284-dfd6d87d4e6c",
        "colab": {
          "base_uri": "https://localhost:8080/"
        }
      },
      "execution_count": 18,
      "outputs": [
        {
          "output_type": "stream",
          "name": "stdout",
          "text": [
            "Initial Request: I want to plan a day trip.\n",
            "\n",
            "Please enter the city you want to visit for your day trip:\n",
            "Your input: Noida, India\n",
            "Please enter your interests for the trip to Noida, India (comma-separated):\n",
            "Your input: Ancient architecture, food , culture\n",
            "Creating an itinerary for Noida, India based on interests: Ancient architecture, food, culture...\n",
            "\n",
            "Final Itinerary:\n",
            "Certainly! Here's a day trip itinerary in Noida, India, tailored to your interests in ancient architecture, food, and culture:\n",
            "\n",
            "**Morning:**\n",
            "\n",
            "- **Start at the Akshardham Temple** (although it's in Delhi, it's very close to Noida and a must-visit for ancient architecture enthusiasts)\n",
            "  - Opening hours: 9:30 AM (Closed on Mondays)\n",
            "  - Explore the grand temple complex and its ancient-styled architecture\n",
            "  - Enjoy the intricate carvings and serene gardens\n",
            "\n",
            "- **Breakfast at a local eatery**\n",
            "  - Try traditional North Indian breakfast items like Aloo Paratha, Puri Bhaji, or Chole Bhature\n",
            "\n",
            "**Mid-Morning:**\n",
            "\n",
            "- **Visit the ISKCON Noida**\n",
            "  - Experience the peaceful ambiance and spiritual culture\n",
            "  - Admire the deities and the temple's architecture\n",
            "\n",
            "**Lunch:**\n",
            "\n",
            "- **Head to Brahmaputra Market for lunch**\n",
            "  - Sample a variety of street foods and local delicacies\n",
            "  - Must-try dishes: Kebabs, Momos, and Chaat\n",
            "\n",
            "**Afternoon:**\n",
            "\n",
            "- **Stroll through the Botanical Garden**\n",
            "  - Enjoy the lush greenery and learn about the diverse plant species\n",
            "  - A good spot for relaxation and a bit of nature in the city\n",
            "\n",
            "- **Visit the Rashtriya Dalit Prerna Sthal and Green Garden**\n",
            "  - Explore the cultural significance and the architectural beauty of the memorial\n",
            "\n",
            "**Evening:**\n",
            "\n",
            "- **Explore the local markets or malls for shopping and culture**\n",
            "  - Atta Market for local shopping experience\n",
            "  - DLF Mall of India or The Great India Place for a more modern shopping experience\n",
            "\n",
            "- **Dinner at a traditional Indian restaurant**\n",
            "  - Try regional specialties such as Butter Chicken, Paneer Tikka, and Biryani\n",
            "  - End your meal with a sweet dessert like Gulab Jamun or Jalebi\n",
            "\n",
            "**Night:**\n",
            "\n",
            "- **Attend a cultural performance or a local event if available**\n",
            "  - Check local listings for any cultural events, music performances, or festivals happening in Noida\n",
            "\n",
            "- **End your day with a leisurely walk at the Sector 18 Market**\n",
            "  - Enjoy the bustling nightlife and maybe grab a late-night snack\n",
            "\n",
            "Remember to check the opening hours and any entry requirements for each location before your visit, as they can change. Also, consider the travel time between locations when planning your day. Enjoy your trip!\n"
          ]
        }
      ]
    },
    {
      "cell_type": "code",
      "source": [
        "user_request = \"I want to plan a day trip.\"\n",
        "run_travel_planner(user_request)"
      ],
      "metadata": {
        "id": "6yVSd_fw86CL",
        "outputId": "40800293-4c45-4c6e-8d8c-eb2fc32634d9",
        "colab": {
          "base_uri": "https://localhost:8080/"
        }
      },
      "execution_count": 19,
      "outputs": [
        {
          "output_type": "stream",
          "name": "stdout",
          "text": [
            "Initial Request: I want to plan a day trip.\n",
            "\n",
            "Please enter the city you want to visit for your day trip:\n",
            "Your input: Jaipur, India\n",
            "Please enter your interests for the trip to Jaipur, India (comma-separated):\n",
            "Your input: Tranditional, food\n",
            "Creating an itinerary for Jaipur, India based on interests: Tranditional, food...\n",
            "\n",
            "Final Itinerary:\n",
            "Certainly! Here's a day trip itinerary in Jaipur, India, focusing on traditional experiences and local food:\n",
            "\n",
            "**Morning:**\n",
            "\n",
            "- **8:00 AM:** Start your day with a traditional Rajasthani breakfast at Rawat Mishtan Bhandar. Try the famous pyaaz kachori with a cup of masala chai.\n",
            "- **9:00 AM:** Visit the Amber Fort (Amer Fort), a beautiful example of Rajput architecture. Enjoy an elephant ride up to the fort if you're interested in a traditional mode of transport.\n",
            "- **11:00 AM:** Head to the Anokhi Museum of Hand Printing to learn about the traditional craft of hand-block printing and maybe try your hand at it.\n",
            "\n",
            "**Afternoon:**\n",
            "\n",
            "- **1:00 PM:** Have lunch at Laxmi Misthan Bhandar (LMB) in Johari Bazaar. Sample traditional dishes like dal baati churma, gatte ki sabzi, and laal maas.\n",
            "- **2:30 PM:** Explore the City Palace, where you can see a mix of Rajasthani and Mughal architecture and learn about the royal history of Jaipur.\n",
            "- **4:00 PM:** Stroll through the nearby Jantar Mantar, an astronomical observatory that showcases the scientific acumen of the past.\n",
            "\n",
            "**Evening:**\n",
            "\n",
            "- **5:30 PM:** Visit the Hawa Mahal at sunset for a beautiful view of the city. The palace's intricate windows are perfect for some traditional architecture photography.\n",
            "- **7:00 PM:** Enjoy a traditional Rajasthani thali for dinner at Chokhi Dhani, where you can also experience folk dances, puppet shows, and other cultural activities.\n",
            "- **9:00 PM:** End your day with a leisurely walk through the vibrant markets like Bapu Bazaar or Tripolia Bazaar, where you can buy traditional crafts, textiles, and jewelry.\n",
            "\n",
            "**Note:** Timings are approximate and may vary based on factors like travel time and individual pace. It's also important to check the opening days and hours of each attraction, as they can change due to holidays or special events.\n"
          ]
        }
      ]
    },
    {
      "cell_type": "code",
      "source": [],
      "metadata": {
        "id": "OWnYvgk29qe8"
      },
      "execution_count": 19,
      "outputs": []
    }
  ]
}