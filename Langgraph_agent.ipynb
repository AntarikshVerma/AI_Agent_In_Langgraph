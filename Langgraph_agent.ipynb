{
  "nbformat": 4,
  "nbformat_minor": 0,
  "metadata": {
    "colab": {
      "provenance": [],
      "authorship_tag": "ABX9TyP6U+oB1hyzCgtduHtOJu6b",
      "include_colab_link": true
    },
    "kernelspec": {
      "name": "python3",
      "display_name": "Python 3"
    },
    "language_info": {
      "name": "python"
    }
  },
  "cells": [
    {
      "cell_type": "markdown",
      "metadata": {
        "id": "view-in-github",
        "colab_type": "text"
      },
      "source": [
        "<a href=\"https://colab.research.google.com/github/AntarikshVerma/AI_Agent_In_Langgraph/blob/main/Langgraph_agent.ipynb\" target=\"_parent\"><img src=\"https://colab.research.google.com/assets/colab-badge.svg\" alt=\"Open In Colab\"/></a>"
      ]
    },
    {
      "cell_type": "code",
      "source": [
        "# !pip install tavily-python==0.3.3\n",
        "# !pip install duckduckgo_search==5.3.1b1\n",
        "# !pip install beautifulsoup4==4.12.3\n",
        "# !pip install openai==1.30.1\n",
        "# !pip install langgraph==0.0.53\n",
        "# !pip install langchain_core==0.2.0\n",
        "# !pip install langchain_openai==0.1.7\n",
        "# !pip install langchain-community==0.2.0\n",
        "# !pip install langchain==0.2.0\n",
        "# !pip install aiosqlite==0.20.0\n",
        "# !pip install pygments==2.17.2\n",
        "# !pip install pygraphviz==1.13\n",
        "# !pip install gradio==4.31.3\n",
        "# !apt install libgraphviz-dev\n",
        "# !pip install pygraphviz\n"
      ],
      "metadata": {
        "id": "Vl1W0MZ4R8Fw"
      },
      "execution_count": 17,
      "outputs": []
    },
    {
      "cell_type": "code",
      "execution_count": 18,
      "metadata": {
        "id": "bBtTb8XFQs8M"
      },
      "outputs": [],
      "source": [
        "from langgraph.graph import StateGraph, END\n",
        "from typing import TypedDict, Annotated\n",
        "import operator\n",
        "from langchain_core.messages import AnyMessage, SystemMessage, HumanMessage, ToolMessage\n",
        "from langchain_openai import ChatOpenAI\n",
        "from langchain_community.tools.tavily_search import TavilySearchResults"
      ]
    },
    {
      "cell_type": "code",
      "source": [],
      "metadata": {
        "id": "BRZo4O2XRbKN"
      },
      "execution_count": null,
      "outputs": []
    }
  ]
}